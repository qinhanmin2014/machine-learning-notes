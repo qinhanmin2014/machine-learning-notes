{
 "cells": [
  {
   "cell_type": "markdown",
   "metadata": {},
   "source": [
    "## Normal Equation"
   ]
  },
  {
   "cell_type": "markdown",
   "metadata": {},
   "source": [
    "$$L = (y-Xw)^T(y-Xw) + \\lambda \\left\\|w\\right\\|^2_2$$\n",
    "\n",
    "$$=(y^T-w^TX^T)(y-Xw) + \\lambda \\left\\|w\\right\\|^2_2$$\n",
    "\n",
    "$$=y^Ty-y^TXw-w^TX^Ty+w^TX^TXw + \\lambda w^Tw$$"
   ]
  },
  {
   "cell_type": "markdown",
   "metadata": {},
   "source": [
    "$$\\frac{\\partial L}{\\partial w} = -X^Ty - X^Ty + 2X^TXw + 2\\lambda w = 0$$\n",
    "\n",
    "$$X^TXw - X^Ty + \\lambda w = 0$$\n",
    "\n",
    "$$w = (X^TX + \\lambda I)^{-1}X^Ty$$"
   ]
  },
  {
   "cell_type": "markdown",
   "metadata": {},
   "source": [
    "## SVD"
   ]
  },
  {
   "cell_type": "markdown",
   "metadata": {},
   "source": [
    "$$X=USV^T,UU^T=I,VV^T=I$$"
   ]
  },
  {
   "cell_type": "markdown",
   "metadata": {},
   "source": [
    "$$w = (X^TX + \\lambda I)^{-1}X^Ty$$\n",
    "\n",
    "$$=(VS^2V^T+\\lambda I)^{-1}VSU^Ty$$\n",
    "\n",
    "$$=(VS^2V^T+\\lambda VV^T)^{-1}VSU^Ty$$\n",
    "\n",
    "$$=(V(S^2+\\lambda)V^T)^{-1}VSU^Ty$$\n",
    "\n",
    "$$=V(S^2+\\lambda)^{-1}V^TVSU^Ty$$\n",
    "\n",
    "$$=V(S^2+\\lambda)^{-1}SU^Ty$$\n",
    "\n",
    "$$=V\\sum{\\frac{s_i}{s_i^2+\\lambda}}U^Ty$$"
   ]
  }
 ],
 "metadata": {
  "kernelspec": {
   "display_name": "work",
   "language": "python",
   "name": "work"
  },
  "language_info": {
   "codemirror_mode": {
    "name": "ipython",
    "version": 3
   },
   "file_extension": ".py",
   "mimetype": "text/x-python",
   "name": "python",
   "nbconvert_exporter": "python",
   "pygments_lexer": "ipython3",
   "version": "3.7.3"
  }
 },
 "nbformat": 4,
 "nbformat_minor": 2
}
