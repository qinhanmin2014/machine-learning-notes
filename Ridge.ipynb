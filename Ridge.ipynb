{
 "cells": [
  {
   "cell_type": "markdown",
   "metadata": {},
   "source": [
    "## Normal Equation"
   ]
  },
  {
   "cell_type": "markdown",
   "metadata": {},
   "source": [
    "$$L = (y-Xw)^T(y-Xw) + \\lambda \\left\\|w\\right\\|^2_2$$\n",
    "\n",
    "$$=(y^T-w^TX^T)(y-Xw) + \\lambda \\left\\|w\\right\\|^2_2$$\n",
    "\n",
    "$$=y^Ty-y^TXw-w^TX^Ty+w^TX^TXw + \\lambda w^Tw$$"
   ]
  },
  {
   "cell_type": "markdown",
   "metadata": {},
   "source": [
    "$$\\frac{\\partial L}{\\partial w} = -X^Ty - X^Ty + 2X^TXw + 2\\lambda w = 0$$\n",
    "\n",
    "$$X^TXw - X^Ty + \\lambda w = 0$$\n",
    "\n",
    "$$w = (X^TX + \\lambda I)^{-1}X^Ty$$"
   ]
  }
 ],
 "metadata": {
  "kernelspec": {
   "display_name": "work",
   "language": "python",
   "name": "work"
  },
  "language_info": {
   "codemirror_mode": {
    "name": "ipython",
    "version": 3
   },
   "file_extension": ".py",
   "mimetype": "text/x-python",
   "name": "python",
   "nbconvert_exporter": "python",
   "pygments_lexer": "ipython3",
   "version": "3.7.3"
  }
 },
 "nbformat": 4,
 "nbformat_minor": 2
}
