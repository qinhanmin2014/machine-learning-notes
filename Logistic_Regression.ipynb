{
 "cells": [
  {
   "cell_type": "markdown",
   "metadata": {},
   "source": [
    "## scikit-learn multiclass='ovr'"
   ]
  },
  {
   "cell_type": "markdown",
   "metadata": {},
   "source": [
    "reference: http://fa.bianp.net/blog/2013/numerical-optimizers-for-logistic-regression/"
   ]
  },
  {
   "cell_type": "markdown",
   "metadata": {},
   "source": [
    "$$L = \\sum_{i=1}^{n}{ln(sigmoid(y_i(w^Tx_i + b)))} + \\frac{\\lambda}{2}\\left\\|w\\right\\|_2^2$$\n",
    "\n",
    "$$sigmoid(x) = \\frac{1}{1 + exp(-x)}$$"
   ]
  },
  {
   "cell_type": "markdown",
   "metadata": {},
   "source": [
    "$$sigmoid^{\\prime}(x) = sigmoid(x)(1 - sigmoid(x))$$\n",
    "\n",
    "$$\\frac{\\partial L}{\\partial w} = \\sum_{i = 1}^{n}{\\frac{1}{sigmoid(y_i(w^Tx_i + b))}\n",
    "    sigmoid(y_i(w^Tx_i + b)) (1 - sigmoid(y_i(w^Tx_i + b))) y_ix_i} + \\lambda w$$\n",
    " \n",
    "$$= \\sum_{i = 1}^{n}{y_ix_i (sigmoid(y_i(w^Tx_i + b)) - 1)} + \\lambda w$$\n",
    "\n",
    "$$\\frac{\\partial L}{\\partial b} = \\sum_{i = 1}^{n}{\\frac{1}{sigmoid(y_i(w^Tx_i + b))}\n",
    "    sigmoid(y_i(w^Tx_i + b)) (1 - sigmoid(y_i(w^Tx_i + b))) y_i} + \\lambda w$$\n",
    " \n",
    "$$= \\sum_{i = 1}^{n}{y_i (sigmoid(y_i(w^Tx_i + b)) - 1)} + \\lambda w$$"
   ]
  },
  {
   "cell_type": "markdown",
   "metadata": {},
   "source": [
    "## scikit-learn multiclass='multinomial'"
   ]
  },
  {
   "cell_type": "markdown",
   "metadata": {},
   "source": [
    "reference: Pattern Recongnition and Machine Learning Section 4.3.4"
   ]
  },
  {
   "cell_type": "markdown",
   "metadata": {},
   "source": [
    "$$p_i^k = \\frac{exp(w_k^Tx_i + b_k)}{\\sum_{j=1}^{K}{exp(w_j^Tx_i + b_j)}}$$\n",
    "\n",
    "$$L = -\\sum_{i=1}^{n}\\sum_{k=1}^{K}{y_i^klogp_i^k} + \\frac{\\lambda}{2}\\left\\|w\\right\\|_2^2$$\n",
    "\n",
    "$$= -\\sum_{i=1}^{n}\\sum_{k=1}^{K}{(y_i^k((w_k^Tx_i + b_k) - ln(\\sum_{j=1}^{K}{exp(w_j^Tx_i + b_j)})))}\n",
    "    + \\frac{\\lambda}{2}\\left\\|w\\right\\|_2^2$$\n",
    "\n",
    "$$= -\\sum_{i=1}^{n}\\sum_{k=1}^{K}{y_i^k(w_k^Tx_i + b_k)}\n",
    "    + \\sum_{i=1}^{n}{ln(\\sum_{j=1}^{K}{exp(w_j^Tx_i + b_j)})}\n",
    "    + \\frac{\\lambda}{2}\\left\\|w\\right\\|_2^2$$"
   ]
  },
  {
   "cell_type": "markdown",
   "metadata": {},
   "source": [
    "$$\\frac{\\partial L}{\\partial w_k} = -\\frac{1}{n}\\sum_{i=1}^{n}{y_i^kx_i}\n",
    "    + \\frac{1}{n}\\sum_{i=1}^{n}{\\frac{1}{\\sum_{j=1}^{K}{exp(w_j^Tx_i + b_j)}}exp(w_k^Tx_i + b_k)x_i} + \\lambda w_k$$\n",
    "\n",
    "$$ = \\frac{1}{n}\\sum_{i=1}^{n}{(p_i^k-y_i^k)x_i} + \\lambda w_k$$\n",
    "\n",
    "$$\\frac{\\partial L}{\\partial b_k} = -\\frac{1}{n}\\sum_{i=1}^{n}{y_i^kx_i}\n",
    "    + \\frac{1}{n}\\sum_{i=1}^{n}{\\frac{1}{\\sum_{j=1}^{K}{exp(w_j^Tx_i + b_j)}}exp(w_k^Tx_i + b_k)}$$\n",
    "\n",
    "$$ = \\frac{1}{n}\\sum_{i=1}^{n}{(p_i^k-y_i^k)}$$"
   ]
  }
 ],
 "metadata": {
  "kernelspec": {
   "display_name": "dev",
   "language": "python",
   "name": "dev"
  },
  "language_info": {
   "codemirror_mode": {
    "name": "ipython",
    "version": 3
   },
   "file_extension": ".py",
   "mimetype": "text/x-python",
   "name": "python",
   "nbconvert_exporter": "python",
   "pygments_lexer": "ipython3",
   "version": "3.7.3"
  }
 },
 "nbformat": 4,
 "nbformat_minor": 2
}
