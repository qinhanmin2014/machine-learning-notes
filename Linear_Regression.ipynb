{
 "cells": [
  {
   "cell_type": "markdown",
   "metadata": {},
   "source": [
    "## Gradient Descent"
   ]
  },
  {
   "cell_type": "markdown",
   "metadata": {},
   "source": [
    "$$L = \\frac{1}{2}\\sum_{i=1}^{n}{(y_i-w^Tx_i-b)^2}$$\n",
    "\n",
    "$$\\frac{\\partial L}{\\partial w} = \\sum_{i=1}^{n}{(w^Tx_i+b-y_i)x_i}$$\n",
    "\n",
    "$$\\frac{\\partial L}{\\partial b} = \\sum_{i=1}^{n}{(w^Tx_i+b-y_i)}$$"
   ]
  },
  {
   "cell_type": "markdown",
   "metadata": {},
   "source": [
    "## Normal Equation"
   ]
  },
  {
   "cell_type": "markdown",
   "metadata": {},
   "source": [
    "$$L = (y-Xw)^T(y-Xw)$$\n",
    "\n",
    "$$=(y^T-w^TX^T)(y-Xw)$$\n",
    "\n",
    "$$=y^Ty-y^TXw-w^TX^Ty+w^TX^TXw$$"
   ]
  },
  {
   "cell_type": "markdown",
   "metadata": {},
   "source": [
    "$$\\frac{\\partial(a^Tx)}{\\partial x} = (\\frac{\\partial \\sum_{i=1}^{n}{a_ix_i}}{\\partial x_p})_p\n",
    "    = (a_p)_p = a$$\n",
    "\n",
    "$$\\frac{\\partial(x^TAx)}{\\partial x} = (\\frac{\\partial \\sum_{i=1}^{n}\\sum_{j=1}^{n}{a_{ij}x_ix_j}}{\\partial x_p})_p\n",
    "    = (\\sum_{i=1}^{n}{(a_{ip} + a_{pi})x_i})_p = (A+A^T)x$$"
   ]
  },
  {
   "cell_type": "markdown",
   "metadata": {},
   "source": [
    "$$\\frac{\\partial L}{\\partial w} = -X^Ty - X^Ty + 2X^TXw = 0$$\n",
    "\n",
    "$$X^TXw - X^Ty = 0$$\n",
    "\n",
    "$$w = (X^TX)^{-1}X^Ty$$"
   ]
  }
 ],
 "metadata": {
  "kernelspec": {
   "display_name": "dev",
   "language": "python",
   "name": "dev"
  },
  "language_info": {
   "codemirror_mode": {
    "name": "ipython",
    "version": 3
   },
   "file_extension": ".py",
   "mimetype": "text/x-python",
   "name": "python",
   "nbconvert_exporter": "python",
   "pygments_lexer": "ipython3",
   "version": "3.7.3"
  }
 },
 "nbformat": 4,
 "nbformat_minor": 2
}
