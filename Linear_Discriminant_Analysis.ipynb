{
 "cells": [
  {
   "cell_type": "markdown",
   "metadata": {},
   "source": [
    "## binary"
   ]
  },
  {
   "cell_type": "markdown",
   "metadata": {},
   "source": [
    "reference: Pattern Recongnition and Machine Learning Section 4.2.1"
   ]
  },
  {
   "cell_type": "markdown",
   "metadata": {},
   "source": [
    "$$p(x|C_k) = \\frac{1}{(2\\pi)^{D/2}}\\frac{1}{|\\Sigma|^{1/2}}exp(-\\frac{1}{2}(x-\\mu_k)^T\\Sigma^{-1}(x-\\mu_k))$$\n",
    "\n",
    "$$p(C_1|x) = \\frac{p(x|C_1)P(C_1)}{p(x|C_1)P(C_1) + p(x|C_2)P(C_2)}$$\n",
    "\n",
    "$$=\\frac{1}{1 + exp(-a)} = sigmoid(a) = sigmoid(w^Tx + b)$$"
   ]
  },
  {
   "cell_type": "markdown",
   "metadata": {},
   "source": [
    "$$a = ln\\frac{p(x|C_1)p(C_1)}{p(x|C_2)p(C_2)}$$\n",
    "\n",
    "$$ = ln\\frac{exp(-1/2(x-\\mu_1)^T\\Sigma^{-1}(x-\\mu_1))}{exp(-1/2(x-\\mu_2)^T\\Sigma^{-1}(x-\\mu_2))} + ln\\frac{p(C_1)}{p(C_2)}$$\n",
    "\n",
    "$$=\\frac{1}{2}((x-\\mu_2)^T\\Sigma^{-1}(x-\\mu_2) - (x-\\mu_1)^T\\Sigma^{-1}(x-\\mu_1)) + ln\\frac{p(C_1)}{p(C_2)}$$\n",
    "\n",
    "$$=\\frac{1}{2}(x^T\\Sigma^{-1}x - 2\\mu_2^T\\Sigma^{-1}x + \\mu_2^T\\Sigma^{-1}\\mu_2\n",
    "    - x^T\\Sigma^{-1}x + 2\\mu_1^T\\Sigma^{-1}x - \\mu_1^T\\Sigma^{-1}\\mu_1) + ln\\frac{p(C_1)}{p(C_2)}$$\n",
    "\n",
    "$$=(\\Sigma^{-1}(\\mu_1-\\mu_2))^Tx - \\frac{1}{2}\\mu_1^T\\Sigma^{-1}\\mu_1 + \\frac{1}{2}\\mu_2^T\\Sigma^{-1}\\mu_2 + ln\\frac{p(C_1)}{p(C_2)}$$"
   ]
  },
  {
   "cell_type": "markdown",
   "metadata": {},
   "source": [
    "$$w = \\Sigma^{-1}(\\mu_1-\\mu_2)$$\n",
    "\n",
    "$$b = -\\frac{1}{2}\\mu_1^T\\Sigma^{-1}\\mu_1 + \\frac{1}{2}\\mu_2^T\\Sigma^{-1}\\mu_2 + ln\\frac{p(C_1)}{p(C_2)}$$"
   ]
  },
  {
   "cell_type": "markdown",
   "metadata": {},
   "source": [
    "## multiclass"
   ]
  },
  {
   "cell_type": "markdown",
   "metadata": {},
   "source": [
    "reference: Pattern Recongnition and Machine Learning Section 4.2.1"
   ]
  },
  {
   "cell_type": "markdown",
   "metadata": {},
   "source": [
    "$$p(x|C_k) = \\frac{1}{(2\\pi)^{D/2}}\\frac{1}{|\\Sigma|^{1/2}}exp(-\\frac{1}{2}(x-\\mu_k)^T\\Sigma^{-1}(x-\\mu_k))$$\n",
    "\n",
    "$$p(C_k|x) = \\frac{p(x|C_k)p(C_k)}{\\sum_{j=1}^{K}{p(x|C_j)p(C_j)}}$$\n",
    "\n",
    "$$= \\frac{exp(a_k)}{\\sum_{j=1}^{K}{exp(a_j)}}$$\n",
    "\n",
    "$$= \\frac{exp(w_k^Tx+b_k)}{\\sum_{j=1}^{K}{exp(w_jx+b_j)}}$$\n",
    "\n",
    "$$= \\frac{exp(w_k^Tx+b_k-constant)}{\\sum_{j=1}^{K}{exp(w_jx+b_j-constant)}}$$"
   ]
  },
  {
   "cell_type": "markdown",
   "metadata": {},
   "source": [
    "$$a_k = ln(p(x|C_k)p(C_k))$$\n",
    "\n",
    "$$w_kx+b_k = ln(exp(-\\frac{1}{2}(x-\\mu_k)^T\\Sigma^{-1}(x-\\mu_k))) + lnp(C_k)\\ (remove\\ constant)$$\n",
    "\n",
    "$$= -\\frac{1}{2}(x-\\mu_k)^T\\Sigma^{-1}(x-\\mu_k) + lnp(C_k)$$\n",
    "\n",
    "$$= -\\frac{1}{2}(x^T\\Sigma^{-1}x - 2\\mu_k^T\\Sigma^{-1}x + \\mu_k^T\\Sigma^{-1}\\mu_k) + lnp(C_k)$$\n",
    "\n",
    "$$= (\\Sigma^{-1}\\mu_k)^Tx - \\frac{1}{2}\\mu_k^T\\Sigma^{-1}\\mu_k + lnp(C_k)\\ (remove\\ constant)$$"
   ]
  },
  {
   "cell_type": "markdown",
   "metadata": {},
   "source": [
    "$$w_k = \\Sigma^{-1}\\mu_k$$\n",
    "\n",
    "$$b_k = -\\frac{1}{2}\\mu_k^T\\Sigma^{-1}\\mu_k + lnp(C_k)$$"
   ]
  }
 ],
 "metadata": {
  "kernelspec": {
   "display_name": "dev",
   "language": "python",
   "name": "dev"
  },
  "language_info": {
   "codemirror_mode": {
    "name": "ipython",
    "version": 3
   },
   "file_extension": ".py",
   "mimetype": "text/x-python",
   "name": "python",
   "nbconvert_exporter": "python",
   "pygments_lexer": "ipython3",
   "version": "3.7.3"
  }
 },
 "nbformat": 4,
 "nbformat_minor": 2
}
